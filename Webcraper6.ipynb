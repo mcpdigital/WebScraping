{
 "cells": [
  {
   "cell_type": "code",
   "execution_count": 2,
   "metadata": {},
   "outputs": [],
   "source": [
    "import tkinter as tk\n",
    "from tkinter import ttk, filedialog\n",
    "import requests\n",
    "from bs4 import BeautifulSoup\n",
    "import csv\n",
    "import json\n",
    "import pandas as pd\n",
    "\n",
    "# USE THIS TO FIND PRICE IN MERCADOLIVRE.COM div.dynamic-carousel__item-container span.dynamic-carousel__price span\n",
    "# USE THIS TO FIND TITULO IN MERCADOLIVRE.COM div.dynamic-carousel__item-container h3.dynamic-carousel__title\n",
    "\n",
    "class ScraperGUI:\n",
    "    def __init__(self, master):\n",
    "        self.master = master\n",
    "        master.title(\"EDA Web Scraper (Jupyter) - Marcelo C. Plaza\")\n",
    "        master.geometry(\"1280x720\")\n",
    "\n",
    "        self.url_label = ttk.Label(master, text=\"URL:\")\n",
    "        self.url_entry = ttk.Entry(master, width=80)\n",
    "        self.url_entry.insert(0, \"https://\")\n",
    "        self.select_label = ttk.Label(master, text=\"Select:\")\n",
    "        self.select_entry = ttk.Entry(master, width=80)\n",
    "        self.scrape_button = ttk.Button(master, text=\"Scrape\", command=self.scrape)\n",
    "        self.result_text = tk.Text(master, wrap=\"word\")\n",
    "        #self.result_text = tk.Text(master)\n",
    "        self.save_button = ttk.Button(master, text=\"Save\", command=self.save)\n",
    "        self.save = self.save\n",
    "        self.url_label.grid(row=0, column=0, padx=5, pady=5, sticky=\"w\")\n",
    "        # self.url_label.grid(row=0, column=0, sticky=\"w\")\n",
    "        self.url_entry.grid(row=0, column=1, padx=5, pady=5, sticky=\"we\")\n",
    "        self.select_label.grid(row=1, column=0, padx=5, pady=5, sticky=\"w\")\n",
    "        self.select_entry.grid(row=1, column=1, padx=5, pady=5, sticky=\"we\")\n",
    "        self.scrape_button.grid(row=2, column=1, padx=5, pady=5, sticky=\"w\")\n",
    "        self.result_text.grid(row=3, column=0, columnspan=2, padx=5, pady=5, sticky=\"nsew\")\n",
    "        self.save_button.grid(row=2, column=1, padx=100, pady=5, sticky=\"w\")\n",
    "                # Configure rows and columns to resize automatically\n",
    "        master.rowconfigure(3, weight=1)\n",
    "        master.columnconfigure(1, weight=1)\n",
    "       # master.rowconfigure(4, weight=1)\n",
    "        #self.result_text.configure(state='disabled')\n",
    "\n",
    "    def scrape(self):\n",
    "        \n",
    "        headers = {'User-Agent': 'Mozilla/5.0 (Windows NT 10.0; Win64; x64) AppleWebKit/537.36 (KHTML, like Gecko) Chrome/58.0.3029.110 Safari/537.36', 'Content-Type': 'text/html'}\n",
    "        url = self.url_entry.get()\n",
    "        select = self.select_entry.get()\n",
    "\n",
    "        response = requests.get(url, headers=headers)\n",
    "        soup = BeautifulSoup(response.content, 'html.parser')\n",
    "        # if(select.rfind(\".\") == -1):\n",
    "        if select.startswith(\".\") or select.rfind(\".\") != -1 or select.rfind(\" \") != -1:\n",
    "            results = soup.select(select)\n",
    "        else:\n",
    "            results = soup.find_all(select)\n",
    "        \n",
    "        self.result_text.configure(state='normal')\n",
    "        self.result_text.delete('1.0', tk.END)\n",
    "        self.result_list = []  # save all results in a class attribute\n",
    "        count = 1\n",
    "        for result in results:\n",
    "            result_dict = {'Result Number': count, 'Result Text': str(result)}\n",
    "            self.result_list.append(result_dict)  # add result to list\n",
    "            self.result_text.insert(tk.END, f\"{select}{count}: {result}\\n\\n\")\n",
    "            count += 1\n",
    "        \n",
    "        self.result_text.configure(state='disabled')\n",
    "        \n",
    "    def save(self):\n",
    "        # use file dialog to get the filename and file type to save\n",
    "        filetypes = [('JSON files', '*.json'), ('CSV files', '*.csv')]\n",
    "        filename = filedialog.asksaveasfilename(defaultextension=\".json\", filetypes=filetypes)\n",
    "\n",
    "        if filename:\n",
    "            selected_results = []  # list to save selected results\n",
    "\n",
    "            # create a Toplevel window to display checkboxes for each result\n",
    "            top = tk.Toplevel(self.master)\n",
    "            top.title(\"Select Results to Save\")\n",
    "            top.geometry(\"1280x720\")\n",
    "\n",
    "            # create a canvas to hold the checkboxes\n",
    "            canvas = tk.Canvas(top)\n",
    "            canvas.pack(side=tk.LEFT, fill=tk.BOTH, expand=True)\n",
    "\n",
    "            # add a scrollbar to the canvas\n",
    "            yscrollbar = ttk.Scrollbar(top, orient=tk.VERTICAL, command=canvas.yview)\n",
    "            yscrollbar.pack(side=tk.RIGHT, fill=tk.Y)\n",
    "            canvas.configure(yscrollcommand=yscrollbar.set)\n",
    "\n",
    "            # create a frame to hold the checkboxes inside the canvas\n",
    "            checkbox_frame = tk.Frame(canvas)\n",
    "            checkbox_frame.columnconfigure(0, weight=1)\n",
    "            canvas.create_window((0, 0), window=checkbox_frame, anchor=tk.NW)\n",
    "\n",
    "            # create a checkbox for each result\n",
    "            checkboxes = []\n",
    "            for i, result in enumerate(self.result_list):\n",
    "                var = tk.BooleanVar(value=True)\n",
    "                checkbox = ttk.Checkbutton(checkbox_frame, text=f\"{result['Result Text']}\", variable=var)\n",
    "                checkbox.grid(row=i+2, column=0, padx=5, pady=5, sticky=\"w\")\n",
    "                checkboxes.append(var)\n",
    "\n",
    "            # update the canvas scroll region\n",
    "            checkbox_frame.update_idletasks()\n",
    "            canvas.config(scrollregion=canvas.bbox(tk.ALL))\n",
    "\n",
    "            # create a button to save selected results and close the window\n",
    "            def save_selected():\n",
    "                for i, checkbox in enumerate(checkboxes):\n",
    "                    if checkbox.get():\n",
    "                        selected_results.append(self.result_list[i])\n",
    "                with open(filename, 'w', encoding='utf-8') as file:\n",
    "                    if filename.endswith('.json'):\n",
    "                        file.write(json.dumps(selected_results, ensure_ascii=False, indent=4))\n",
    "                    elif filename.endswith('.csv'):\n",
    "                        writer = csv.writer(file)\n",
    "                        writer.writerow(['Result Number', 'Result Text'])\n",
    "                        for result in selected_results:\n",
    "                            writer.writerow([result['Result Number'], result['Result Text']])\n",
    "                top.destroy()\n",
    "                # create a pandas dataframe from the selected results\n",
    "                df = pd.DataFrame(selected_results)\n",
    "\n",
    "                # perform any desired operations on the dataframe\n",
    "                # example: print the first 5 rows of the dataframe\n",
    "                print(df.head())\n",
    "\n",
    "        save_button = ttk.Button(checkbox_frame, text=\"Save Selected Results\", command=save_selected)\n",
    "        save_button.grid(row=0, column=0, padx=5, pady=5, sticky=\"w\")\n",
    "\n",
    "\n",
    "\n",
    "\n",
    "root = tk.Tk()\n",
    "# create a style object\n",
    "style = ttk.Style()\n",
    "\n",
    "# set the theme\n",
    "style.theme_use('vista')\n",
    "scraper = ScraperGUI(root)\n",
    "root.mainloop()\n"
   ]
  },
  {
   "cell_type": "code",
   "execution_count": 16,
   "metadata": {},
   "outputs": [],
   "source": [
    "df=pd.read_csv('patimg.csv',  index_col=False)\n"
   ]
  },
  {
   "cell_type": "code",
   "execution_count": 4,
   "metadata": {},
   "outputs": [],
   "source": [
    "df=pd.read_json('ml.json')"
   ]
  },
  {
   "cell_type": "code",
   "execution_count": 5,
   "metadata": {},
   "outputs": [],
   "source": [
    "pd.set_option('max_colwidth', 200)"
   ]
  },
  {
   "cell_type": "code",
   "execution_count": 6,
   "metadata": {},
   "outputs": [
    {
     "data": {
      "text/html": [
       "<div>\n",
       "<style scoped>\n",
       "    .dataframe tbody tr th:only-of-type {\n",
       "        vertical-align: middle;\n",
       "    }\n",
       "\n",
       "    .dataframe tbody tr th {\n",
       "        vertical-align: top;\n",
       "    }\n",
       "\n",
       "    .dataframe thead th {\n",
       "        text-align: right;\n",
       "    }\n",
       "</style>\n",
       "<table border=\"1\" class=\"dataframe\">\n",
       "  <thead>\n",
       "    <tr style=\"text-align: right;\">\n",
       "      <th></th>\n",
       "      <th>Result Number</th>\n",
       "      <th>Result Text</th>\n",
       "    </tr>\n",
       "  </thead>\n",
       "  <tbody>\n",
       "    <tr>\n",
       "      <th>0</th>\n",
       "      <td>1</td>\n",
       "      <td>&lt;div class=\"dynamic-carousel__item-content with-discount\"&gt;&lt;span class=\"dynamic-carousel__oldprice\"&gt;R$ 4.199&lt;/span&gt;&lt;div class=\"dynamic-carousel__price-block\"&gt;&lt;span class=\"dynamic-carousel__price\"&gt;&lt;...</td>\n",
       "    </tr>\n",
       "    <tr>\n",
       "      <th>1</th>\n",
       "      <td>2</td>\n",
       "      <td>&lt;div class=\"dynamic-carousel__item-content with-discount\"&gt;&lt;span class=\"dynamic-carousel__oldprice\"&gt;R$ 276&lt;/span&gt;&lt;div class=\"dynamic-carousel__price-block\"&gt;&lt;span class=\"dynamic-carousel__price\"&gt;&lt;sp...</td>\n",
       "    </tr>\n",
       "    <tr>\n",
       "      <th>2</th>\n",
       "      <td>3</td>\n",
       "      <td>&lt;div class=\"dynamic-carousel__item-content with-discount\"&gt;&lt;span class=\"dynamic-carousel__oldprice\"&gt;R$ 77&lt;/span&gt;&lt;div class=\"dynamic-carousel__price-block\"&gt;&lt;span class=\"dynamic-carousel__price\"&gt;&lt;spa...</td>\n",
       "    </tr>\n",
       "    <tr>\n",
       "      <th>3</th>\n",
       "      <td>4</td>\n",
       "      <td>&lt;div class=\"dynamic-carousel__item-content with-discount\"&gt;&lt;span class=\"dynamic-carousel__oldprice\"&gt;R$ 199&lt;/span&gt;&lt;div class=\"dynamic-carousel__price-block\"&gt;&lt;span class=\"dynamic-carousel__price\"&gt;&lt;sp...</td>\n",
       "    </tr>\n",
       "    <tr>\n",
       "      <th>4</th>\n",
       "      <td>5</td>\n",
       "      <td>&lt;div class=\"dynamic-carousel__item-content with-discount\"&gt;&lt;span class=\"dynamic-carousel__oldprice\"&gt;R$ 2.699&lt;/span&gt;&lt;div class=\"dynamic-carousel__price-block\"&gt;&lt;span class=\"dynamic-carousel__price\"&gt;&lt;...</td>\n",
       "    </tr>\n",
       "  </tbody>\n",
       "</table>\n",
       "</div>"
      ],
      "text/plain": [
       "   Result Number  \\\n",
       "0              1   \n",
       "1              2   \n",
       "2              3   \n",
       "3              4   \n",
       "4              5   \n",
       "\n",
       "                                                                                                                                                                                               Result Text  \n",
       "0  <div class=\"dynamic-carousel__item-content with-discount\"><span class=\"dynamic-carousel__oldprice\">R$ 4.199</span><div class=\"dynamic-carousel__price-block\"><span class=\"dynamic-carousel__price\"><...  \n",
       "1  <div class=\"dynamic-carousel__item-content with-discount\"><span class=\"dynamic-carousel__oldprice\">R$ 276</span><div class=\"dynamic-carousel__price-block\"><span class=\"dynamic-carousel__price\"><sp...  \n",
       "2  <div class=\"dynamic-carousel__item-content with-discount\"><span class=\"dynamic-carousel__oldprice\">R$ 77</span><div class=\"dynamic-carousel__price-block\"><span class=\"dynamic-carousel__price\"><spa...  \n",
       "3  <div class=\"dynamic-carousel__item-content with-discount\"><span class=\"dynamic-carousel__oldprice\">R$ 199</span><div class=\"dynamic-carousel__price-block\"><span class=\"dynamic-carousel__price\"><sp...  \n",
       "4  <div class=\"dynamic-carousel__item-content with-discount\"><span class=\"dynamic-carousel__oldprice\">R$ 2.699</span><div class=\"dynamic-carousel__price-block\"><span class=\"dynamic-carousel__price\"><...  "
      ]
     },
     "execution_count": 6,
     "metadata": {},
     "output_type": "execute_result"
    }
   ],
   "source": [
    "df.head()"
   ]
  },
  {
   "cell_type": "code",
   "execution_count": 7,
   "metadata": {},
   "outputs": [
    {
     "data": {
      "text/plain": [
       "Index(['Result Number', 'Result Text'], dtype='object')"
      ]
     },
     "execution_count": 7,
     "metadata": {},
     "output_type": "execute_result"
    }
   ],
   "source": [
    "df.columns"
   ]
  },
  {
   "cell_type": "code",
   "execution_count": 8,
   "metadata": {},
   "outputs": [
    {
     "ename": "AttributeError",
     "evalue": "'DataFrame' object has no attribute 'text'",
     "output_type": "error",
     "traceback": [
      "\u001b[1;31m---------------------------------------------------------------------------\u001b[0m",
      "\u001b[1;31mAttributeError\u001b[0m                            Traceback (most recent call last)",
      "Cell \u001b[1;32mIn[8], line 1\u001b[0m\n\u001b[1;32m----> 1\u001b[0m df\u001b[39m.\u001b[39;49mtext\n",
      "File \u001b[1;32m~\\AppData\\Roaming\\Python\\Python310\\site-packages\\pandas\\core\\generic.py:5902\u001b[0m, in \u001b[0;36mNDFrame.__getattr__\u001b[1;34m(self, name)\u001b[0m\n\u001b[0;32m   5895\u001b[0m \u001b[39mif\u001b[39;00m (\n\u001b[0;32m   5896\u001b[0m     name \u001b[39mnot\u001b[39;00m \u001b[39min\u001b[39;00m \u001b[39mself\u001b[39m\u001b[39m.\u001b[39m_internal_names_set\n\u001b[0;32m   5897\u001b[0m     \u001b[39mand\u001b[39;00m name \u001b[39mnot\u001b[39;00m \u001b[39min\u001b[39;00m \u001b[39mself\u001b[39m\u001b[39m.\u001b[39m_metadata\n\u001b[0;32m   5898\u001b[0m     \u001b[39mand\u001b[39;00m name \u001b[39mnot\u001b[39;00m \u001b[39min\u001b[39;00m \u001b[39mself\u001b[39m\u001b[39m.\u001b[39m_accessors\n\u001b[0;32m   5899\u001b[0m     \u001b[39mand\u001b[39;00m \u001b[39mself\u001b[39m\u001b[39m.\u001b[39m_info_axis\u001b[39m.\u001b[39m_can_hold_identifiers_and_holds_name(name)\n\u001b[0;32m   5900\u001b[0m ):\n\u001b[0;32m   5901\u001b[0m     \u001b[39mreturn\u001b[39;00m \u001b[39mself\u001b[39m[name]\n\u001b[1;32m-> 5902\u001b[0m \u001b[39mreturn\u001b[39;00m \u001b[39mobject\u001b[39;49m\u001b[39m.\u001b[39;49m\u001b[39m__getattribute__\u001b[39;49m(\u001b[39mself\u001b[39;49m, name)\n",
      "\u001b[1;31mAttributeError\u001b[0m: 'DataFrame' object has no attribute 'text'"
     ]
    }
   ],
   "source": [
    "df.text"
   ]
  }
 ],
 "metadata": {
  "kernelspec": {
   "display_name": "Python 3",
   "language": "python",
   "name": "python3"
  },
  "language_info": {
   "codemirror_mode": {
    "name": "ipython",
    "version": 3
   },
   "file_extension": ".py",
   "mimetype": "text/x-python",
   "name": "python",
   "nbconvert_exporter": "python",
   "pygments_lexer": "ipython3",
   "version": "3.10.10"
  },
  "orig_nbformat": 4
 },
 "nbformat": 4,
 "nbformat_minor": 2
}
